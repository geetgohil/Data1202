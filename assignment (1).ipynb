{
 "cells": [
  {
   "cell_type": "markdown",
   "id": "c2b950af",
   "metadata": {},
   "source": [
    "<H1>GEET GOHIL</H1>\n"
   ]
  },
  {
   "cell_type": "code",
   "execution_count": 25,
   "id": "a590db2d",
   "metadata": {},
   "outputs": [
    {
     "name": "stdout",
     "output_type": "stream",
     "text": [
      "the output of multiplication is 42.51\n"
     ]
    }
   ],
   "source": [
    "X=3.9\n",
    "Y=10.9\n",
    "Z=X*Y\n",
    "f='the output of multiplication is'\n",
    "print(f,Z)"
   ]
  },
  {
   "cell_type": "code",
   "execution_count": 24,
   "id": "60638be9",
   "metadata": {},
   "outputs": [
    {
     "name": "stdout",
     "output_type": "stream",
     "text": [
      "X is greater than y\n"
     ]
    }
   ],
   "source": [
    "if X>Y: \n",
    "    print('X is greater than y')\n",
    "else:\n",
    "    print('Y is greater than x')"
   ]
  },
  {
   "cell_type": "code",
   "execution_count": null,
   "id": "5f9677f8",
   "metadata": {},
   "outputs": [],
   "source": []
  },
  {
   "cell_type": "code",
   "execution_count": 36,
   "id": "4b0e92ad",
   "metadata": {},
   "outputs": [
    {
     "name": "stdout",
     "output_type": "stream",
     "text": [
      "the output of multiplication is 8.9\n"
     ]
    }
   ],
   "source": [
    "X=3.9\n",
    "Z=5\n",
    "Y='10'\n",
    "OK=X+Z\n",
    "f='the output of multiplication is'\n",
    "print(f,OK)"
   ]
  },
  {
   "cell_type": "code",
   "execution_count": 42,
   "id": "c27291c2",
   "metadata": {},
   "outputs": [
    {
     "name": "stdout",
     "output_type": "stream",
     "text": [
      "the output of Addition is 50\n",
      "the output of Subtraction is 40\n",
      "the output of Multiplcation is 225\n",
      "the output of Division is 0.1111111111111111\n",
      "the output of Power is 125\n"
     ]
    }
   ],
   "source": [
    "X=5\n",
    "Y=45\n",
    "ZA=X+Y\n",
    "ZS=Y-X\n",
    "ZD=X/Y\n",
    "ZM=X*Y\n",
    "ZP=X**3\n",
    "A='the output of Addition is'\n",
    "S='the output of Subtraction is'\n",
    "M='the output of Multiplcation is'\n",
    "D='the output of Division is'\n",
    "P='the output of Power is'\n",
    "\n",
    "print(A,ZA)\n",
    "print(S,ZS)\n",
    "print(M,ZM)\n",
    "print(D,ZD)\n",
    "print(P,ZP)"
   ]
  },
  {
   "cell_type": "markdown",
   "id": "7fac081b",
   "metadata": {},
   "source": []
  },
  {
   "cell_type": "code",
   "execution_count": 48,
   "id": "f71b80fc",
   "metadata": {},
   "outputs": [
    {
     "data": {
      "text/plain": [
       "True"
      ]
     },
     "execution_count": 48,
     "metadata": {},
     "output_type": "execute_result"
    }
   ],
   "source": [
    "#COMPARISON OPERATOR \n",
    "X=7\n",
    "Y==45\n",
    "\n",
    "X<9 or X>10\n"
   ]
  },
  {
   "cell_type": "markdown",
   "id": "798a7245",
   "metadata": {},
   "source": [
    "#addition, subtraction, multiplication of string\n",
    "\n",
    "x='yes'\n",
    "y='no'\n",
    "x+'   '+y"
   ]
  },
  {
   "cell_type": "code",
   "execution_count": 49,
   "id": "5f67993f",
   "metadata": {},
   "outputs": [
    {
     "data": {
      "text/plain": [
       "'yes   no'"
      ]
     },
     "execution_count": 49,
     "metadata": {},
     "output_type": "execute_result"
    }
   ],
   "source": [
    "x='yes'\n",
    "y='no'\n",
    "x+'   '+y"
   ]
  },
  {
   "cell_type": "code",
   "execution_count": 50,
   "id": "3aa44655",
   "metadata": {},
   "outputs": [
    {
     "data": {
      "text/plain": [
       "'yes   noyes   noyes   no'"
      ]
     },
     "execution_count": 50,
     "metadata": {},
     "output_type": "execute_result"
    }
   ],
   "source": [
    "x='yes'\n",
    "y='no'\n",
    "(x+'   '+y)*3"
   ]
  },
  {
   "cell_type": "code",
   "execution_count": 62,
   "id": "e565e3f1",
   "metadata": {},
   "outputs": [
    {
     "name": "stdout",
     "output_type": "stream",
     "text": [
      "YES no\n"
     ]
    }
   ],
   "source": [
    "#apply some function to string\n",
    "\n",
    "x='yes'\n",
    "y='NO'\n",
    "\n",
    "z=x.upper()+ ' '+y.lower()\n",
    "print(z)"
   ]
  },
  {
   "cell_type": "code",
   "execution_count": 64,
   "id": "ee5e7f66",
   "metadata": {},
   "outputs": [
    {
     "name": "stdout",
     "output_type": "stream",
     "text": [
      "Yes I Am Ready No I Am Not\n"
     ]
    }
   ],
   "source": [
    "x='yes i am ready'\n",
    "y='NO I AM NOT'\n",
    "\n",
    "z=x.title()+ ' '+y.title()\n",
    "print(z)"
   ]
  },
  {
   "cell_type": "code",
   "execution_count": 72,
   "id": "9809229a",
   "metadata": {},
   "outputs": [
    {
     "name": "stdout",
     "output_type": "stream",
     "text": [
      "Yes i am ready no i am not\n"
     ]
    }
   ],
   "source": [
    "x='yes i am ready'\n",
    "y='NO I AM NOT'\n",
    "\n",
    "z=(x+ ' '+y).capitalize()\n",
    "print(z)"
   ]
  },
  {
   "cell_type": "code",
   "execution_count": 67,
   "id": "29a33d16",
   "metadata": {},
   "outputs": [
    {
     "data": {
      "text/plain": [
       "['__add__',\n",
       " '__class__',\n",
       " '__contains__',\n",
       " '__delattr__',\n",
       " '__dir__',\n",
       " '__doc__',\n",
       " '__eq__',\n",
       " '__format__',\n",
       " '__ge__',\n",
       " '__getattribute__',\n",
       " '__getitem__',\n",
       " '__getnewargs__',\n",
       " '__getstate__',\n",
       " '__gt__',\n",
       " '__hash__',\n",
       " '__init__',\n",
       " '__init_subclass__',\n",
       " '__iter__',\n",
       " '__le__',\n",
       " '__len__',\n",
       " '__lt__',\n",
       " '__mod__',\n",
       " '__mul__',\n",
       " '__ne__',\n",
       " '__new__',\n",
       " '__reduce__',\n",
       " '__reduce_ex__',\n",
       " '__repr__',\n",
       " '__rmod__',\n",
       " '__rmul__',\n",
       " '__setattr__',\n",
       " '__sizeof__',\n",
       " '__str__',\n",
       " '__subclasshook__',\n",
       " 'capitalize',\n",
       " 'casefold',\n",
       " 'center',\n",
       " 'count',\n",
       " 'encode',\n",
       " 'endswith',\n",
       " 'expandtabs',\n",
       " 'find',\n",
       " 'format',\n",
       " 'format_map',\n",
       " 'index',\n",
       " 'isalnum',\n",
       " 'isalpha',\n",
       " 'isascii',\n",
       " 'isdecimal',\n",
       " 'isdigit',\n",
       " 'isidentifier',\n",
       " 'islower',\n",
       " 'isnumeric',\n",
       " 'isprintable',\n",
       " 'isspace',\n",
       " 'istitle',\n",
       " 'isupper',\n",
       " 'join',\n",
       " 'ljust',\n",
       " 'lower',\n",
       " 'lstrip',\n",
       " 'maketrans',\n",
       " 'partition',\n",
       " 'removeprefix',\n",
       " 'removesuffix',\n",
       " 'replace',\n",
       " 'rfind',\n",
       " 'rindex',\n",
       " 'rjust',\n",
       " 'rpartition',\n",
       " 'rsplit',\n",
       " 'rstrip',\n",
       " 'split',\n",
       " 'splitlines',\n",
       " 'startswith',\n",
       " 'strip',\n",
       " 'swapcase',\n",
       " 'title',\n",
       " 'translate',\n",
       " 'upper',\n",
       " 'zfill']"
      ]
     },
     "execution_count": 67,
     "metadata": {},
     "output_type": "execute_result"
    }
   ],
   "source": [
    "dir(x)"
   ]
  },
  {
   "cell_type": "code",
   "execution_count": null,
   "id": "7ae5cab0",
   "metadata": {},
   "outputs": [],
   "source": []
  }
 ],
 "metadata": {
  "kernelspec": {
   "display_name": "Python 3 (ipykernel)",
   "language": "python",
   "name": "python3"
  },
  "language_info": {
   "codemirror_mode": {
    "name": "ipython",
    "version": 3
   },
   "file_extension": ".py",
   "mimetype": "text/x-python",
   "name": "python",
   "nbconvert_exporter": "python",
   "pygments_lexer": "ipython3",
   "version": "3.11.5"
  }
 },
 "nbformat": 4,
 "nbformat_minor": 5
}
